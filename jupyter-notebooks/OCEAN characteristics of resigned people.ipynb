{
 "cells": [
  {
   "cell_type": "markdown",
   "metadata": {},
   "source": [
    "# what characteristics do resigned people have?"
   ]
  },
  {
   "cell_type": "code",
   "execution_count": 1,
   "metadata": {
    "collapsed": true
   },
   "outputs": [],
   "source": [
    "import pandas as pd\n",
    "import numpy as np\n",
    "from matplotlib import pyplot as plt"
   ]
  },
  {
   "cell_type": "code",
   "execution_count": 2,
   "metadata": {
    "scrolled": false
   },
   "outputs": [],
   "source": [
    "emp=pd.read_pickle('emp_info_last_access')\n",
    "resignation=emp[emp['left']==1]\n",
    "#resignation\n",
    "psycho_data = pd.read_csv(\"D:/DataSets2/psychometric_info.csv\")"
   ]
  },
  {
   "cell_type": "markdown",
   "metadata": {},
   "source": [
    "# we define 30 as a dividing point of low O value and high O value, low O value refers to [10, 30], high O value refers to (30, 50]"
   ]
  },
  {
   "cell_type": "code",
   "execution_count": 3,
   "metadata": {
    "scrolled": true
   },
   "outputs": [
    {
     "data": {
      "image/png": "[encoded data removed]",
      "text/plain": [
       "<matplotlib.figure.Figure at 0x1f34f1b19e8>"
      ]
     },
     "metadata": {},
     "output_type": "display_data"
    },
    {
     "name": "stdout",
     "output_type": "stream",
     "text": [
      "average O value of employees who has a low O value: 19.94395280235988\n",
      "average O value of employees who has a high O value: 39.95763993948563\n",
      "number of employees who has a low O value 339\n",
      "number of employees who has a high O value 661\n"
     ]
    }
   ],
   "source": [
    "bins=max(psycho_data[\"O\"])-min(psycho_data[\"O\"])+1\n",
    "plt.hist(psycho_data[\"O\"],bins)\n",
    "plt.xlabel('O value')\n",
    "plt.ylabel('number of people')\n",
    "plt.show()\n",
    "low=psycho_data[psycho_data[\"O\"]<=30]\n",
    "avg_low=low['O'].mean()\n",
    "print(\"average O value of employees who has a low O value:\",avg_low)\n",
    "high=psycho_data[psycho_data[\"O\"]>30]\n",
    "avg_high=high['O'].mean()\n",
    "print(\"average O value of employees who has a high O value:\",avg_high)\n",
    "print(\"number of employees who has a low O value\",len(low))\n",
    "print(\"number of employees who has a high O value\",len(high))"
   ]
  },
  {
   "cell_type": "markdown",
   "metadata": {},
   "source": [
    "# from below results, it can be concluded that employees who has a high O value are more likely to resign"
   ]
  },
  {
   "cell_type": "code",
   "execution_count": 4,
   "metadata": {},
   "outputs": [
    {
     "data": {
      "image/png": "[encoded data removed]",
      "text/plain": [
       "<matplotlib.figure.Figure at 0x1f34f45eba8>"
      ]
     },
     "metadata": {},
     "output_type": "display_data"
    },
    {
     "name": "stdout",
     "output_type": "stream",
     "text": [
      "average O value of resigned people who has a low O value: 20.224489795918366\n",
      "average O value of resigned people who has a high O value: 39.5188679245283\n",
      "number of resigned people who has a low O value 49\n",
      "number of resigned people who has a high O value 106\n",
      "ratio of resigned people who has a low O value 0.14454277286135694\n",
      "ratio of resigned people who has a high O value 0.16036308623298035\n"
     ]
    }
   ],
   "source": [
    "bins=max(resignation[\"O\"])-min(resignation[\"O\"])+1\n",
    "plt.hist(resignation[\"O\"],bins)\n",
    "plt.xlabel('O value')\n",
    "plt.ylabel('number of people')\n",
    "plt.show()\n",
    "r_low=resignation[resignation[\"O\"]<=30]\n",
    "r_avg_low=r_low['O'].mean()\n",
    "print(\"average O value of resigned people who has a low O value:\",r_avg_low)\n",
    "r_high=resignation[resignation[\"O\"]>30]\n",
    "r_avg_high=r_high['O'].mean()\n",
    "print(\"average O value of resigned people who has a high O value:\",r_avg_high)\n",
    "print(\"number of resigned people who has a low O value\",len(r_low))\n",
    "print(\"number of resigned people who has a high O value\",len(r_high))\n",
    "print(\"ratio of resigned people who has a low O value\",len(r_low)/len(low))\n",
    "print(\"ratio of resigned people who has a high O value\",len(r_high)/len(high))"
   ]
  },
  {
   "cell_type": "markdown",
   "metadata": {},
   "source": [
    "# similarly, we can do the same thing on C value, the conclusion is: employees who has a high C value are more likely to resign"
   ]
  },
  {
   "cell_type": "code",
   "execution_count": 5,
   "metadata": {},
   "outputs": [
    {
     "data": {
      "image/png": "[encoded data removed]",
      "text/plain": [
       "<matplotlib.figure.Figure at 0x1f34f1b1438>"
      ]
     },
     "metadata": {},
     "output_type": "display_data"
    },
    {
     "name": "stdout",
     "output_type": "stream",
     "text": [
      "average C value of employees who has a low C value: 19.71030042918455\n",
      "average C value of employees who has a high C value: 40.20224719101124\n",
      "number of employees who has a low C value 466\n",
      "number of employees who has a high C value 534\n"
     ]
    }
   ],
   "source": [
    "bins=max(psycho_data[\"C\"])-min(psycho_data[\"C\"])+1\n",
    "plt.hist(psycho_data[\"C\"],bins)\n",
    "plt.xlabel('C value')\n",
    "plt.ylabel('number of people')\n",
    "plt.show()\n",
    "low=psycho_data[psycho_data[\"C\"]<=30]\n",
    "avg_low=low['C'].mean()\n",
    "print(\"average C value of employees who has a low C value:\",avg_low)\n",
    "high=psycho_data[psycho_data[\"C\"]>30]\n",
    "avg_high=high['C'].mean()\n",
    "print(\"average C value of employees who has a high C value:\",avg_high)\n",
    "print(\"number of employees who has a low C value\",len(low))\n",
    "print(\"number of employees who has a high C value\",len(high))"
   ]
  },
  {
   "cell_type": "code",
   "execution_count": 6,
   "metadata": {
    "scrolled": true
   },
   "outputs": [
    {
     "data": {
      "image/png": "[encoded data removed]",
      "text/plain": [
       "<matplotlib.figure.Figure at 0x1f34f1b1358>"
      ]
     },
     "metadata": {},
     "output_type": "display_data"
    },
    {
     "name": "stdout",
     "output_type": "stream",
     "text": [
      "average C value of resigned people who has a low C value: 19.611940298507463\n",
      "average C value of resigned people who has a high C value: 40.13636363636363\n",
      "number of resigned people who has a low C value 67\n",
      "number of resigned people who has a high C value 88\n",
      "ratio of resigned people who has a low C value 0.14377682403433475\n",
      "ratio of resigned people who has a high C value 0.1647940074906367\n"
     ]
    }
   ],
   "source": [
    "bins=max(resignation[\"C\"])-min(resignation[\"C\"])+1\n",
    "plt.hist(resignation[\"C\"],bins)\n",
    "plt.xlabel('C value')\n",
    "plt.ylabel('number of people')\n",
    "plt.show()\n",
    "r_low=resignation[resignation[\"C\"]<=30]\n",
    "r_avg_low=r_low['C'].mean()\n",
    "print(\"average C value of resigned people who has a low C value:\",r_avg_low)\n",
    "r_high=resignation[resignation[\"C\"]>30]\n",
    "r_avg_high=r_high['C'].mean()\n",
    "print(\"average C value of resigned people who has a high C value:\",r_avg_high)\n",
    "print(\"number of resigned people who has a low C value\",len(r_low))\n",
    "print(\"number of resigned people who has a high C value\",len(r_high))\n",
    "print(\"ratio of resigned people who has a low C value\",len(r_low)/len(low))\n",
    "print(\"ratio of resigned people who has a high C value\",len(r_high)/len(high))"
   ]
  },
  {
   "cell_type": "markdown",
   "metadata": {},
   "source": [
    "# conclusion about E value: employees who has a high E value are more likely to resign"
   ]
  },
  {
   "cell_type": "code",
   "execution_count": 7,
   "metadata": {
    "scrolled": true
   },
   "outputs": [
    {
     "data": {
      "image/png": "[encoded data removed]",
      "text/plain": [
       "<matplotlib.figure.Figure at 0x1f34f1abc88>"
      ]
     },
     "metadata": {},
     "output_type": "display_data"
    },
    {
     "name": "stdout",
     "output_type": "stream",
     "text": [
      "average E value of employees who has a low E value: 20.0316573556797\n",
      "average E value of employees who has a high E value: 39.827213822894166\n",
      "number of employees who has a low E value 537\n",
      "number of employees who has a high E value 463\n"
     ]
    }
   ],
   "source": [
    "bins=max(psycho_data[\"E\"])-min(psycho_data[\"E\"])+1\n",
    "plt.hist(psycho_data[\"E\"],bins)\n",
    "plt.xlabel('E value')\n",
    "plt.ylabel('number of people')\n",
    "plt.show()\n",
    "low=psycho_data[psycho_data[\"E\"]<=30]\n",
    "avg_low=low['E'].mean()\n",
    "print(\"average E value of employees who has a low E value:\",avg_low)\n",
    "high=psycho_data[psycho_data[\"E\"]>30]\n",
    "avg_high=high['E'].mean()\n",
    "print(\"average E value of employees who has a high E value:\",avg_high)\n",
    "print(\"number of employees who has a low E value\",len(low))\n",
    "print(\"number of employees who has a high E value\",len(high))"
   ]
  },
  {
   "cell_type": "code",
   "execution_count": 8,
   "metadata": {
    "scrolled": true
   },
   "outputs": [
    {
     "data": {
      "image/png": "[encoded data removed]",
      "text/plain": [
       "<matplotlib.figure.Figure at 0x1f34f1abd30>"
      ]
     },
     "metadata": {},
     "output_type": "display_data"
    },
    {
     "name": "stdout",
     "output_type": "stream",
     "text": [
      "average E value of resigned people who has a low E value: 20.050632911392405\n",
      "average E value of resigned people who has a high E value: 39.85526315789474\n",
      "number of resigned people who has a low E value 79\n",
      "number of resigned people who has a high E value 76\n",
      "ratio of resigned people who has a low E value 0.14711359404096835\n",
      "ratio of resigned people who has a high E value 0.16414686825053995\n"
     ]
    }
   ],
   "source": [
    "bins=max(resignation[\"E\"])-min(resignation[\"E\"])+1\n",
    "plt.hist(resignation[\"E\"],bins)\n",
    "plt.xlabel('E value')\n",
    "plt.ylabel('number of people')\n",
    "plt.show()\n",
    "r_low=resignation[resignation[\"E\"]<=30]\n",
    "r_avg_low=r_low['E'].mean()\n",
    "print(\"average E value of resigned people who has a low E value:\",r_avg_low)\n",
    "r_high=resignation[resignation[\"E\"]>30]\n",
    "r_avg_high=r_high['E'].mean()\n",
    "print(\"average E value of resigned people who has a high E value:\",r_avg_high)\n",
    "print(\"number of resigned people who has a low E value\",len(r_low))\n",
    "print(\"number of resigned people who has a high E value\",len(r_high))\n",
    "print(\"ratio of resigned people who has a low E value\",len(r_low)/len(low))\n",
    "print(\"ratio of resigned people who has a high E value\",len(r_high)/len(high))"
   ]
  },
  {
   "cell_type": "markdown",
   "metadata": {},
   "source": [
    "# conclusion about A value: employees who has a low A value are more likely to resign"
   ]
  },
  {
   "cell_type": "code",
   "execution_count": 9,
   "metadata": {},
   "outputs": [
    {
     "data": {
      "image/png": "[encoded data removed]",
      "text/plain": [
       "<matplotlib.figure.Figure at 0x1f350b152b0>"
      ]
     },
     "metadata": {},
     "output_type": "display_data"
    },
    {
     "name": "stdout",
     "output_type": "stream",
     "text": [
      "average A value of employees who has a low A value: 19.90535714285714\n",
      "average A value of employees who has a high A value: 40.16818181818182\n",
      "number of employees who has a low A value 560\n",
      "number of employees who has a high A value 440\n"
     ]
    }
   ],
   "source": [
    "bins=max(psycho_data[\"A\"])-min(psycho_data[\"A\"])+1\n",
    "plt.hist(psycho_data[\"A\"],bins)\n",
    "plt.xlabel('A value')\n",
    "plt.ylabel('number of people')\n",
    "plt.show()\n",
    "low=psycho_data[psycho_data[\"A\"]<=30]\n",
    "avg_low=low['A'].mean()\n",
    "print(\"average A value of employees who has a low A value:\",avg_low)\n",
    "high=psycho_data[psycho_data[\"A\"]>30]\n",
    "avg_high=high['A'].mean()\n",
    "print(\"average A value of employees who has a high A value:\",avg_high)\n",
    "print(\"number of employees who has a low A value\",len(low))\n",
    "print(\"number of employees who has a high A value\",len(high))"
   ]
  },
  {
   "cell_type": "code",
   "execution_count": 10,
   "metadata": {},
   "outputs": [
    {
     "data": {
      "image/png": "[encoded data removed]",
      "text/plain": [
       "<matplotlib.figure.Figure at 0x1f350b94550>"
      ]
     },
     "metadata": {},
     "output_type": "display_data"
    },
    {
     "name": "stdout",
     "output_type": "stream",
     "text": [
      "average A value of resigned people who has a low A value: 19.78787878787879\n",
      "average A value of resigned people who has a high A value: 39.625\n",
      "number of resigned people who has a low A value 99\n",
      "number of resigned people who has a high A value 56\n",
      "ratio of resigned people who has a low A value 0.1767857142857143\n",
      "ratio of resigned people who has a high A value 0.12727272727272726\n"
     ]
    }
   ],
   "source": [
    "bins=max(resignation[\"A\"])-min(resignation[\"A\"])+1\n",
    "plt.hist(resignation[\"A\"],bins)\n",
    "plt.xlabel('A value')\n",
    "plt.ylabel('number of people')\n",
    "plt.show()\n",
    "r_low=resignation[resignation[\"A\"]<=30]\n",
    "r_avg_low=r_low['A'].mean()\n",
    "print(\"average A value of resigned people who has a low A value:\",r_avg_low)\n",
    "r_high=resignation[resignation[\"A\"]>30]\n",
    "r_avg_high=r_high['A'].mean()\n",
    "print(\"average A value of resigned people who has a high A value:\",r_avg_high)\n",
    "print(\"number of resigned people who has a low A value\",len(r_low))\n",
    "print(\"number of resigned people who has a high A value\",len(r_high))\n",
    "print(\"ratio of resigned people who has a low A value\",len(r_low)/len(low))\n",
    "print(\"ratio of resigned people who has a high A value\",len(r_high)/len(high))"
   ]
  },
  {
   "cell_type": "markdown",
   "metadata": {},
   "source": [
    "# Distribution of N value is not a bimodal distribution, thus we just consider the mean value of N.\n",
    "# conclusion: employees who has a low N value are more likely to resign"
   ]
  },
  {
   "cell_type": "code",
   "execution_count": 11,
   "metadata": {},
   "outputs": [
    {
     "data": {
      "image/png": "[encoded data removed]",
      "text/plain": [
       "<matplotlib.figure.Figure at 0x1f34f4f7358>"
      ]
     },
     "metadata": {},
     "output_type": "display_data"
    },
    {
     "name": "stdout",
     "output_type": "stream",
     "text": [
      "average N value of employees: 29.608\n"
     ]
    }
   ],
   "source": [
    "bins=max(psycho_data[\"N\"])-min(psycho_data[\"N\"])+1\n",
    "plt.hist(psycho_data[\"N\"],bins)\n",
    "plt.xlabel('N value')\n",
    "plt.ylabel('number of people')\n",
    "plt.show()\n",
    "avg=psycho_data[\"N\"].mean()\n",
    "print(\"average N value of employees:\",avg)"
   ]
  },
  {
   "cell_type": "code",
   "execution_count": 12,
   "metadata": {},
   "outputs": [
    {
     "data": {
      "image/png": "[encoded data removed]",
      "text/plain": [
       "<matplotlib.figure.Figure at 0x1f350d1cac8>"
      ]
     },
     "metadata": {},
     "output_type": "display_data"
    },
    {
     "name": "stdout",
     "output_type": "stream",
     "text": [
      "average N value of resigned people: 29.406451612903226\n"
     ]
    }
   ],
   "source": [
    "bins=max(resignation[\"N\"])-min(resignation[\"N\"])+1\n",
    "plt.hist(resignation[\"N\"],bins)\n",
    "plt.xlabel('N value')\n",
    "plt.ylabel('number of people')\n",
    "plt.show()\n",
    "r_avg=resignation[\"N\"].mean()\n",
    "print(\"average N value of resigned people:\",r_avg)"
   ]
  },
  {
   "cell_type": "code",
   "execution_count": null,
   "metadata": {
    "collapsed": true
   },
   "outputs": [],
   "source": []
  }
 ],
 "metadata": {
  "kernelspec": {
   "display_name": "Python 3",
   "language": "python",
   "name": "python3"
  },
  "language_info": {
   "codemirror_mode": {
    "name": "ipython",
    "version": 3
   },
   "file_extension": ".py",
   "mimetype": "text/x-python",
   "name": "python",
   "nbconvert_exporter": "python",
   "pygments_lexer": "ipython3",
   "version": "3.6.3"
  }
 },
 "nbformat": 4,
 "nbformat_minor": 2
}
